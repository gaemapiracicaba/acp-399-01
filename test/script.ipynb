{
 "cells": [
  {
   "cell_type": "markdown",
   "id": "2443d5ac-8330-4459-9a24-1bc2b0fbc985",
   "metadata": {},
   "source": [
    "<br>\n",
    "\n",
    "# Introdução"
   ]
  },
  {
   "cell_type": "code",
   "execution_count": null,
   "id": "301f81eb-a5b7-4902-b626-4e369d196744",
   "metadata": {},
   "outputs": [],
   "source": [
    "import os\n",
    "import shutil\n",
    "import folium\n",
    "import fnmatch\n",
    "import pandas as pd\n",
    "import geopandas as gpd\n",
    "\n",
    "from osgeo import ogr\n",
    "from folium import plugins\n",
    "from zipfile import ZipFile"
   ]
  },
  {
   "cell_type": "code",
   "execution_count": null,
   "id": "01c63fa9-aada-4f19-b7e8-cf3a06358306",
   "metadata": {},
   "outputs": [],
   "source": [
    "#!pip install traquitanas --upgrade\n",
    "from traquitanas.geo import layers as tt"
   ]
  },
  {
   "cell_type": "code",
   "execution_count": null,
   "id": "1d89326e-26cd-4a6c-8c56-3d2aa7277f29",
   "metadata": {},
   "outputs": [],
   "source": [
    "maps_path = os.path.join('..', 'maps')\n",
    "data_path = os.path.join('..', 'data')\n",
    "input_path = os.path.join(data_path, 'input')\n",
    "output_path = os.path.join(data_path, 'output')\n",
    "temp_path = os.path.join(data_path, 'temp')\n",
    "\n",
    "shutil.rmtree(temp_path, ignore_errors=True)\n",
    "shutil.rmtree(output_path, ignore_errors=True)\n",
    "\n",
    "os.makedirs(output_path, exist_ok=True)\n",
    "os.makedirs(temp_path, exist_ok=True)\n",
    "os.makedirs(maps_path, exist_ok=True)"
   ]
  },
  {
   "cell_type": "markdown",
   "id": "b9211387-dfb6-4694-956e-f1407e713716",
   "metadata": {},
   "source": [
    "<br>\n",
    "\n",
    "Inicialmente extraímos todos os arquivos de dentro do zip \"Shape.zip\"."
   ]
  },
  {
   "cell_type": "code",
   "execution_count": null,
   "id": "206f89eb-6bd9-4d40-bda2-9db00762a4eb",
   "metadata": {},
   "outputs": [],
   "source": [
    "zipfile_path = os.path.join(input_path, 'Shapes.zip')"
   ]
  },
  {
   "cell_type": "code",
   "execution_count": null,
   "id": "6e463bf3-9a88-4219-9abe-7924dc981d6a",
   "metadata": {},
   "outputs": [],
   "source": [
    "with ZipFile(zipfile_path, 'r') as zip_obj:    \n",
    "    zip_obj.extractall(temp_path)"
   ]
  },
  {
   "cell_type": "markdown",
   "id": "cfab907c-c5f0-49f7-8005-05b321010fea",
   "metadata": {},
   "source": [
    "<br>\n",
    "\n",
    "Uma vez com os arquivos soltos, foi possível observar grande desorganização dos arquivos. Não há qualquer padrão de nomenclatura. Alguns *shapefiles* existem para algumas nascentes, enquanto para outra snão existe.<br>\n",
    "Como o objetivo principal do trabalho é identificar a localização das 56 nascentes que são mencionadas no TAC, optou-se por concentrar os esforços nestas feições."
   ]
  },
  {
   "cell_type": "code",
   "execution_count": null,
   "id": "747d56a6-06db-4f6e-b077-1dac624b53f1",
   "metadata": {},
   "outputs": [],
   "source": [
    "list_shps = []\n",
    "\n",
    "for root, dirs, files in os.walk(temp_path):\n",
    "    if os.path.basename(root).startswith('Nascente'):\n",
    "        print('')\n",
    "        print(root)\n",
    "        for file in fnmatch.filter(files, '*.shp'):\n",
    "            print('> ' + file)\n",
    "            list_shps.append(file)"
   ]
  },
  {
   "cell_type": "code",
   "execution_count": null,
   "id": "d891e516-d290-410f-adab-780027d768ad",
   "metadata": {},
   "outputs": [],
   "source": [
    "list_shps = list(set(list_shps))\n",
    "list_shps.sort()\n",
    "list_shps"
   ]
  },
  {
   "cell_type": "markdown",
   "id": "60b00dba-c66d-40fe-a3ab-819f1f69091e",
   "metadata": {},
   "source": [
    "<br>\n",
    "\n",
    "## Junta shapefiles por Nome\n",
    "\n",
    "Com a lista dos possíveis nomes de shapefiles, juntou-se todos os arquivos."
   ]
  },
  {
   "cell_type": "code",
   "execution_count": null,
   "id": "0121f3ef-2ee7-4e7e-b8ab-362b5dab7d9b",
   "metadata": {},
   "outputs": [],
   "source": [
    "def merge_shp_by_name(shp, path):\n",
    "    \"\"\"\n",
    "    path: pasta root que tem os shapefiles\n",
    "    \n",
    "    \"\"\"\n",
    "    # Add Fields\n",
    "    print('\\n{}'.format(shp))\n",
    "    for root, dirs, files in os.walk(path):\n",
    "        if os.path.basename(root).startswith('Nascente'):\n",
    "            for file in fnmatch.filter(files, '*.shp'):\n",
    "                if file in [shp]:\n",
    "                    # Read\n",
    "                    temp = os.path.join(root, file)\n",
    "                    gdf = gpd.read_file(temp)\n",
    "                    gdf.columns = [x.lower() for x in gdf.columns]\n",
    "\n",
    "                    # Delete Fields\n",
    "                    #for col in ['Id', 'path', 'nascente']:\n",
    "                    gdf.drop([\n",
    "                        'Id', 'path',\n",
    "                        'nascente', 'Nascente',\n",
    "                        'numero', 'x', 'y',\n",
    "                        'BUFF_DIST', 'buff_dist',\n",
    "                        'nascente_1'\n",
    "                        'nascente_1', 'nascente_2',\n",
    "                        'nascente_3', 'nascente_4',\n",
    "                        'nascente_5'],\n",
    "                        axis=1,\n",
    "                        errors='ignore',\n",
    "                        inplace=True,\n",
    "                    )\n",
    "                    \n",
    "                    # Add Fields\n",
    "                    gdf['path'] = temp\n",
    "                    dirname = os.path.dirname(temp)\n",
    "                    dirname = os.path.basename(dirname)\n",
    "                    nascente_number = int(dirname.split(' ', maxsplit=1)[-1])\n",
    "                    gdf['nascente'] = nascente_number\n",
    "\n",
    "                    # Save Output\n",
    "                    gdf.to_file(temp)\n",
    "\n",
    "    # Lista Files\n",
    "    print(gdf.columns)\n",
    "    list_files = []                \n",
    "    for root, dirs, files in os.walk(path):\n",
    "        if os.path.basename(root).startswith('Nascente'):\n",
    "            for file in fnmatch.filter(files, '*.shp'):\n",
    "                if file in [shp]:\n",
    "                    temp = os.path.join(root, file)\n",
    "                    list_files.append(temp)\n",
    "\n",
    "    # Combine all shapefiles\n",
    "    gdf = gpd.GeoDataFrame(\n",
    "        pd.concat(\n",
    "            [gpd.read_file(i) for i in list_files],\n",
    "            ignore_index=True\n",
    "        ),\n",
    "        crs=gpd.read_file(list_files[0]).crs\n",
    "    )\n",
    "\n",
    "    # Save Output\n",
    "    gdf.to_file(os.path.join(output_path, shp))\n",
    "    display(gdf)\n",
    "    return gdf"
   ]
  },
  {
   "cell_type": "code",
   "execution_count": null,
   "id": "a5c74de2-d2f6-4435-a968-df08120b92d8",
   "metadata": {},
   "outputs": [],
   "source": [
    "for shp in list_shps:\n",
    "    gdf = merge_shp_by_name(shp, temp_path)"
   ]
  },
  {
   "cell_type": "markdown",
   "id": "8aa71593-0412-4ef3-8eac-fdcfca6ceb20",
   "metadata": {},
   "source": [
    "<br>\n",
    "\n",
    "## Junta shapefiles Específicos\n",
    "\n",
    "Após juntar todos os shapefiles em pastas, notei a existência de shapefiles que tem o mesmo tema, porém continham nomes distintos (por exemplo, \"app.shp\" e \"App.shp\").<br>\n",
    "Esse problema na nomenclatura dos arquivos, impediu que os arquivos fossem unificados e, portanto, foi necessário escrever uma função que juntava os shapefiles, mantendo apenas o primeiro e deletando os restantes."
   ]
  },
  {
   "cell_type": "code",
   "execution_count": null,
   "id": "d9014e59-cf9b-4459-9a8a-8ac75401222f",
   "metadata": {},
   "outputs": [],
   "source": [
    "def merge_shp_specific(list_files):\n",
    "    \"\"\"\n",
    "    Une shapefiles específicos, sobrepondo o primeiro da lista...\n",
    "    Deletando os demais...\n",
    "    \"\"\"\n",
    "    # Concatena\n",
    "    gdf = gpd.GeoDataFrame(\n",
    "        pd.concat(\n",
    "            [gpd.read_file(i) for i in list_files],\n",
    "            ignore_index=True\n",
    "        ),\n",
    "        crs=gpd.read_file(list_files[0]).crs\n",
    "    )\n",
    "\n",
    "    # Deleta Others Files\n",
    "    driver = ogr.GetDriverByName('ESRI Shapefile')\n",
    "    for file in list_files[1:]:\n",
    "        if os.path.exists(file):\n",
    "            driver.DeleteDataSource(file)\n",
    "            print('\"{}\" deletado!!'.format(file))\n",
    "        else:\n",
    "            print('\"{}\" não existe!'.format(file))\n",
    "\n",
    "    # Save Output\n",
    "    gdf.to_file(os.path.join(list_files[0]))"
   ]
  },
  {
   "cell_type": "code",
   "execution_count": null,
   "id": "7dcee883-102f-4457-aba5-9943833a51ba",
   "metadata": {},
   "outputs": [],
   "source": [
    "merge_shp_specific(\n",
    "    [\n",
    "        os.path.join(output_path, 'APP.shp'),\n",
    "        os.path.join(output_path, 'APP_nascente.shp'),\n",
    "    ]\n",
    ")"
   ]
  },
  {
   "cell_type": "code",
   "execution_count": null,
   "id": "9832705e-33f8-47d8-90af-76f09158ccf6",
   "metadata": {},
   "outputs": [],
   "source": [
    "merge_shp_specific(\n",
    "    [\n",
    "        os.path.join(output_path, 'Area_conservacao.shp'),\n",
    "        os.path.join(output_path, 'area_Conservacao.shp'),\n",
    "    ]\n",
    ")"
   ]
  },
  {
   "cell_type": "code",
   "execution_count": null,
   "id": "0b488e56-2cd4-4274-9ed7-f7bd59a150af",
   "metadata": {},
   "outputs": [],
   "source": [
    "merge_shp_specific(\n",
    "    [\n",
    "        os.path.join(output_path, 'area_drenagem.shp'),\n",
    "        os.path.join(output_path, 'Area_Drenagem.shp'),\n",
    "        os.path.join(output_path, 'Area_drenagem.shp'),        \n",
    "    ]\n",
    ")"
   ]
  },
  {
   "cell_type": "code",
   "execution_count": null,
   "id": "8729ae2c-0870-4cc2-a490-a3bc3fad5a16",
   "metadata": {},
   "outputs": [],
   "source": [
    "merge_shp_specific(\n",
    "    [\n",
    "        os.path.join(output_path, 'Recuperacao_curso_agua.shp'),\n",
    "        os.path.join(output_path, 'Recuperacao_curso_dagua.shp'),\n",
    "        os.path.join(output_path, 'Recuperacao_cursodagua.shp'),        \n",
    "    ]\n",
    ")"
   ]
  },
  {
   "cell_type": "markdown",
   "id": "949bb926-1fac-4832-aa6c-22ef4d16481e",
   "metadata": {},
   "source": [
    "<br>\n",
    "\n",
    "## Deleta Shapefiles\n",
    "\n",
    "Após juntar o material que considerei útil para a etapa do meu trabalho, foi possível deletar o restante do material."
   ]
  },
  {
   "cell_type": "code",
   "execution_count": null,
   "id": "d7cab1d1-b261-407d-98a9-ee0320a612e6",
   "metadata": {},
   "outputs": [],
   "source": [
    "def delete_shp(list_files):\n",
    "    \"\"\"\n",
    "    Delete Lista de Shapefiles\n",
    "    \"\"\"\n",
    "    # Deleta Others Files\n",
    "    driver = ogr.GetDriverByName('ESRI Shapefile')\n",
    "    for file in list_files[1:]:\n",
    "        if os.path.exists(file):\n",
    "            driver.DeleteDataSource(file)\n",
    "            print('\"{}\" deletado!!'.format(file))\n",
    "        else:\n",
    "            print('\"{}\" não existe!'.format(file))\n"
   ]
  },
  {
   "cell_type": "code",
   "execution_count": null,
   "id": "4bfd9ba9-9bc5-4a2e-862a-495ba4f972fe",
   "metadata": {},
   "outputs": [],
   "source": [
    "list_files = [\n",
    "    # Lixo\n",
    "    os.path.join(output_path, 'APP_total.shp'),\n",
    "\n",
    "    # Interessa?\n",
    "    os.path.join(output_path, 'Geologia.shp'),\n",
    "    #os.path.join(output_path, 'Nascente.shp'),\n",
    "    os.path.join(output_path, 'Pontos_geofisica.shp'),\n",
    "    os.path.join(output_path, 'Recomposicao.shp'),\n",
    "    os.path.join(output_path, 'Recuperacao_nascente.shp'),\n",
    "    os.path.join(output_path, 'Uso_solo_APP.shp'),\n",
    "    os.path.join(output_path, 'Uso_solo_app_curso_dagua.shp'),\n",
    "    os.path.join(output_path, 'Uso_solo_app_nasc.shp'),\n",
    "    os.path.join(output_path, 'Uso_solo_area_drenagem.shp'),\n",
    "    os.path.join(output_path, 'Uso_solo_curso_agua.shp'),\n",
    "    os.path.join(output_path, 'Uso_solo_hidrografia.shp'),\n",
    "]\n",
    "\n",
    "delete_shp(list_files)"
   ]
  },
  {
   "cell_type": "code",
   "execution_count": null,
   "id": "715b4d17-5e56-4318-b31f-99a50d46776c",
   "metadata": {},
   "outputs": [],
   "source": [
    "shutil.rmtree(temp_path, ignore_errors=True)"
   ]
  },
  {
   "cell_type": "markdown",
   "id": "32bd379d-0423-46a6-9c3f-867f7e78269b",
   "metadata": {},
   "source": [
    "<br>\n",
    "\n",
    "# Maps"
   ]
  },
  {
   "cell_type": "markdown",
   "id": "c4219c4f-3ed6-4153-8d40-45c0e478f9d5",
   "metadata": {},
   "source": [
    "<br>\n",
    "\n",
    "## Layer: Nascentes"
   ]
  },
  {
   "cell_type": "code",
   "execution_count": null,
   "id": "0d1beeed-1a2d-4295-800a-ea9e387aa9a7",
   "metadata": {},
   "outputs": [],
   "source": [
    "def add_lyr_nascentes(output_path):\n",
    "    # Input\n",
    "    gdf = gpd.read_file(os.path.join(output_path, 'Nascente.shp'))\n",
    "    gdf = gdf.to_crs(epsg=4326)\n",
    "    \n",
    "    # Layers\n",
    "    lyr = folium.GeoJson(\n",
    "        gdf,\n",
    "        name='Nascentes',\n",
    "        smooth_factor=1.0,\n",
    "        style_function=lambda x: {\n",
    "            'fillColor': '#DC143C',\n",
    "            'color': '#DC143C',\n",
    "            'weight': 1,\n",
    "            'fillOpacity': 0.3,\n",
    "        },\n",
    "        highlight_function=lambda x: {\n",
    "            'weight': 3,\n",
    "            'fillOpacity': 0.6,\n",
    "        },\n",
    "        tooltip=folium.features.GeoJsonTooltip(\n",
    "            fields=['nascente'],\n",
    "            aliases=['Nascente'],\n",
    "            sticky=True,\n",
    "            opacity=0.9,\n",
    "            direction='right',\n",
    "        ),\n",
    "    #     popup=folium.GeoJsonPopup(\n",
    "    #         ['popup'],\n",
    "    #         parse_html=False,\n",
    "    #         max_width='400',\n",
    "    #         show=False,\n",
    "    #         labels=False,\n",
    "    #         sticky=True,            \n",
    "    #     ),\n",
    "        embed=False,\n",
    "        zoom_on_click=False,\n",
    "        control=True,\n",
    "        show=True,\n",
    "    )\n",
    "    return lyr"
   ]
  },
  {
   "cell_type": "markdown",
   "id": "aaa084fb",
   "metadata": {},
   "source": [
    "<br>\n",
    "\n",
    "## Layer: Área Contribuição"
   ]
  },
  {
   "cell_type": "code",
   "execution_count": null,
   "id": "8d374cba-afb1-4b0c-8978-2c12c40e0c25",
   "metadata": {},
   "outputs": [],
   "source": [
    "def add_lyr_areadrenagem(output_path):\n",
    "    # Input\n",
    "    gdf = gpd.read_file(os.path.join(output_path, 'area_drenagem.shp'))\n",
    "    gdf = gdf.to_crs(epsg=4326)\n",
    "    \n",
    "    # Layers\n",
    "    lyr = folium.GeoJson(\n",
    "        gdf,\n",
    "        name='Nascentes',\n",
    "        smooth_factor=1.0,\n",
    "        style_function=lambda x: {\n",
    "            'fillColor': '#DC143C',\n",
    "            'color': '#DC143C',\n",
    "            'weight': 1,\n",
    "            'fillOpacity': 0.3,\n",
    "        },\n",
    "        highlight_function=lambda x: {\n",
    "            'weight': 3,\n",
    "            'fillOpacity': 0.6,\n",
    "        },\n",
    "        tooltip=folium.features.GeoJsonTooltip(\n",
    "            fields=['nascente'],\n",
    "            aliases=['Nascente'],\n",
    "            sticky=True,\n",
    "            opacity=0.9,\n",
    "            direction='right',\n",
    "        ),\n",
    "    #     popup=folium.GeoJsonPopup(\n",
    "    #         ['popup'],\n",
    "    #         parse_html=False,\n",
    "    #         max_width='400',\n",
    "    #         show=False,\n",
    "    #         labels=False,\n",
    "    #         sticky=True,            \n",
    "    #     ),\n",
    "        embed=False,\n",
    "        zoom_on_click=False,\n",
    "        control=True,\n",
    "        show=True,\n",
    "    )\n",
    "    return lyr"
   ]
  },
  {
   "cell_type": "markdown",
   "id": "c75b0f48-b340-4990-9261-59e7c3d9384a",
   "metadata": {},
   "source": [
    "<br>\n",
    "\n",
    "## Maps"
   ]
  },
  {
   "cell_type": "code",
   "execution_count": null,
   "id": "c4cc80ed-d29a-47a1-883f-9e4d562bafda",
   "metadata": {},
   "outputs": [],
   "source": [
    "def get_map(input_shp):\n",
    "    # Input\n",
    "    gdf = gpd.read_file(input_shp)\n",
    "    gdf = gdf.to_crs(epsg=4326)\n",
    "    sw = gdf.bounds[['miny', 'minx']].min().values.tolist()\n",
    "    ne = gdf.bounds[['maxy', 'maxx']].max().values.tolist()\n",
    "    bounds = [sw, ne]\n",
    "    \n",
    "    # Zoom\n",
    "    min_zoom = 10\n",
    "    max_zoom = 18\n",
    "    \n",
    "    # Create Map\n",
    "    m = folium.Map(\n",
    "        #zoom_start=10,\n",
    "        min_zoom=min_zoom,\n",
    "        max_zoom=max_zoom,\n",
    "        max_bounds=True,\n",
    "        #zoom_delta=0.1,s\n",
    "        min_lat=bounds[0][0]*(101/100),\n",
    "        min_lon=bounds[0][1]*(101/100),\n",
    "        max_lat=bounds[1][0]*(99/100),\n",
    "        max_lon=bounds[1][1]*(99/100),\n",
    "        tiles=None,\n",
    "    )\n",
    "    \n",
    "    # Add Layers\n",
    "    m.add_child(tt.add_lyr_google_terrain(min_zoom, max_zoom))\n",
    "    m.add_child(tt.add_lyr_google_hybrid(min_zoom, max_zoom))\n",
    "    m.add_child(tt.add_lyr_google_streets(min_zoom, max_zoom))\n",
    "    m.add_child(tt.add_lyr_google_satellite(min_zoom, max_zoom))\n",
    "\n",
    "    # Outros Layers\n",
    "    m.add_child(add_lyr_nascentes(output_path))\n",
    "    m.add_child(add_lyr_areadrenagem(output_path))\n",
    "    #m.add_child(add_lyr_car())\n",
    "    #m.add_child(add_lyr_divisa_municipal())\n",
    "    #m.add_child(add_lyr_macrozona())\n",
    "    #m.add_child(add_lyr_wms())\n",
    "    \n",
    "    # Plugins\n",
    "    m.fit_bounds(bounds)\n",
    "    plugins.Fullscreen(\n",
    "        position='topleft',\n",
    "        title='Clique para Maximizar',\n",
    "        title_cancel='Mininizar',\n",
    "    ).add_to(m)\n",
    "    folium.LayerControl(\n",
    "        position='topright',\n",
    "        collapsed=False\n",
    "    ).add_to(m)\n",
    "    return m"
   ]
  },
  {
   "cell_type": "code",
   "execution_count": null,
   "id": "08dee3cb-8ea7-4f0d-a921-8998713e69e7",
   "metadata": {},
   "outputs": [],
   "source": [
    "# Create Map\n",
    "m = get_map(os.path.join(output_path, 'Nascente.shp'))\n",
    "\n",
    "# Results\n",
    "m.save(os.path.join(maps_path, 'acp-399-01_map.html'))\n",
    "m"
   ]
  },
  {
   "cell_type": "code",
   "execution_count": null,
   "id": "49551a51-edf8-4392-8679-54c38bf3fcf0",
   "metadata": {},
   "outputs": [],
   "source": []
  }
 ],
 "metadata": {
  "kernelspec": {
   "display_name": "Python [conda env:root] *",
   "language": "python",
   "name": "conda-root-py"
  },
  "language_info": {
   "codemirror_mode": {
    "name": "ipython",
    "version": 3
   },
   "file_extension": ".py",
   "mimetype": "text/x-python",
   "name": "python",
   "nbconvert_exporter": "python",
   "pygments_lexer": "ipython3",
   "version": "3.9.7"
  }
 },
 "nbformat": 4,
 "nbformat_minor": 5
}
