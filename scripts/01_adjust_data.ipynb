{
 "cells": [
  {
   "cell_type": "markdown",
   "id": "2443d5ac-8330-4459-9a24-1bc2b0fbc985",
   "metadata": {},
   "source": [
    "<br>\n",
    "\n",
    "# Introdução\n"
   ]
  },
  {
   "cell_type": "code",
   "execution_count": null,
   "id": "0dd8e821",
   "metadata": {},
   "outputs": [],
   "source": [
    "#!pip3 install open-geodata --upgrade"
   ]
  },
  {
   "cell_type": "code",
   "execution_count": null,
   "id": "9bf6de30-c5dc-4990-9264-8ac47abc4759",
   "metadata": {},
   "outputs": [],
   "source": [
    "import fnmatch\n",
    "import os\n",
    "import pprint\n",
    "import shutil\n",
    "from zipfile import ZipFile\n",
    "\n",
    "import geopandas as gpd\n",
    "import pandas as pd\n",
    "from folium import plugins\n",
    "from my_paths import geo_path, input_path, temp_path\n",
    "from open_geodata import lyr\n",
    "from osgeo import ogr"
   ]
  },
  {
   "cell_type": "markdown",
   "id": "b9211387-dfb6-4694-956e-f1407e713716",
   "metadata": {},
   "source": [
    "<br>\n",
    "\n",
    "Inicialmente extraímos todos os arquivos de dentro do zip \"Shape.zip\".\n"
   ]
  },
  {
   "cell_type": "code",
   "execution_count": null,
   "id": "c1680a83-7622-43c0-a21c-b13744f5d797",
   "metadata": {},
   "outputs": [],
   "source": [
    "shutil.rmtree(temp_path, ignore_errors=True)"
   ]
  },
  {
   "cell_type": "code",
   "execution_count": null,
   "id": "6e463bf3-9a88-4219-9abe-7924dc981d6a",
   "metadata": {},
   "outputs": [],
   "source": [
    "zipfile_path = input_path / 'Shapes.zip'\n",
    "\n",
    "with ZipFile(zipfile_path, 'r') as zip_obj:\n",
    "    zip_obj.extractall(temp_path)"
   ]
  },
  {
   "cell_type": "markdown",
   "id": "cfab907c-c5f0-49f7-8005-05b321010fea",
   "metadata": {},
   "source": [
    "<br>\n",
    "\n",
    "Uma vez com os arquivos soltos, foi possível observar grande desorganização dos arquivos. Não há qualquer padrão de nomenclatura. Alguns _shapefiles_ existem para algumas nascentes, enquanto para outra snão existe.<br>\n",
    "Como o objetivo principal do trabalho é identificar a localização das 56 nascentes que são mencionadas no TAC, optou-se por concentrar os esforços nestas feições.\n"
   ]
  },
  {
   "cell_type": "code",
   "execution_count": null,
   "id": "831662e5-3925-46cb-b961-435ce7d3f71e",
   "metadata": {},
   "outputs": [],
   "source": [
    "list_shps = list(\n",
    "    set([x.name for x in list(temp_path.glob('Nascente*/**/*.shp'))])\n",
    ")\n",
    "list_shps.sort()\n",
    "pprint.pprint(list_shps)"
   ]
  },
  {
   "cell_type": "code",
   "execution_count": null,
   "id": "8198532d-61c2-4ea3-8b1f-b3a97cb47565",
   "metadata": {},
   "outputs": [],
   "source": [
    "list_files = list(set([x.name for x in list(temp_path.glob(f'Nascente*'))]))\n",
    "list_files"
   ]
  },
  {
   "cell_type": "markdown",
   "id": "60b00dba-c66d-40fe-a3ab-819f1f69091e",
   "metadata": {},
   "source": [
    "<br>\n",
    "\n",
    "## Junta shapefiles por Nome\n",
    "\n",
    "Com a lista dos possíveis nomes de shapefiles, juntou-se todos os arquivos.\n"
   ]
  },
  {
   "cell_type": "code",
   "execution_count": null,
   "id": "0121f3ef-2ee7-4e7e-b8ab-362b5dab7d9b",
   "metadata": {},
   "outputs": [],
   "source": [
    "def merge_shp_by_name(shp, in_path, out_path):\n",
    "    \"\"\"\n",
    "    in_path: pasta root que tem os shapefiles\n",
    "    out_path: pasta que salva\n",
    "\n",
    "    \"\"\"\n",
    "    # Create List Shapefiles\n",
    "    list_files = list(\n",
    "        set([x for x in list(in_path.glob(f'Nascente*/**/{shp}'))])\n",
    "    )\n",
    "\n",
    "    # Combine all shapefiles\n",
    "    gdf = gpd.GeoDataFrame(\n",
    "        pd.concat([gpd.read_file(i) for i in list_files], ignore_index=True),\n",
    "        crs=gpd.read_file(list_files[0]).crs,\n",
    "    )\n",
    "\n",
    "    # ddd\n",
    "    # print(gdf.head())\n",
    "    # print(gdf.columns)\n",
    "\n",
    "    # Adjust Columns\n",
    "    gdf.columns = [x.lower() for x in gdf.columns]\n",
    "\n",
    "    # Delete Fields\n",
    "    gdf.drop(\n",
    "        [\n",
    "            'area',\n",
    "            'id',\n",
    "            'in_path',\n",
    "            'numero',\n",
    "            'x',\n",
    "            'y',\n",
    "            'buff_dist',\n",
    "            'nascente_1' 'nascente_1',\n",
    "            'nascente_2',\n",
    "            'nascente_3',\n",
    "            'nascente_4',\n",
    "            'nascente_5',\n",
    "            'na',\n",
    "            'uso',\n",
    "        ],\n",
    "        axis=1,\n",
    "        errors='ignore',\n",
    "        inplace=True,\n",
    "    )\n",
    "\n",
    "    # Save Output\n",
    "    shp = shp.lower()\n",
    "    geopackage = shp.replace('shp', 'gpkg')\n",
    "    geopackage_filepath = out_path / f'{geopackage}'\n",
    "    geopackage_filepath.unlink(missing_ok=True)\n",
    "    gdf.to_file(\n",
    "        geopackage_filepath,\n",
    "        driver='GPKG',\n",
    "    )\n",
    "    return gdf"
   ]
  },
  {
   "cell_type": "code",
   "execution_count": null,
   "id": "a5c74de2-d2f6-4435-a968-df08120b92d8",
   "metadata": {},
   "outputs": [],
   "source": [
    "for shp in list_shps:\n",
    "    print(shp.lower())\n",
    "    shp = shp.lower()\n",
    "\n",
    "    # Add Fields\n",
    "    for i in temp_path.glob(f'Nascente*/**/{shp}'):\n",
    "        #\n",
    "        # print(str(i).lower())\n",
    "\n",
    "        # Read Data\n",
    "        gdf = gpd.read_file(i)\n",
    "\n",
    "        # Delete Column\n",
    "        gdf.drop(\n",
    "            ['nascente', 'Nascente', 'path'],\n",
    "            axis=1,\n",
    "            errors='ignore',\n",
    "            inplace=True,\n",
    "        )\n",
    "        # Add Fields\n",
    "        gdf['nascente'] = str(i.parent.name)\n",
    "        gdf['path'] = str(i.parent)\n",
    "\n",
    "        # Save Data\n",
    "        filename = i.name.lower()\n",
    "        filepath = i.parent\n",
    "        print(filepath / filename)\n",
    "        gdf.to_file(filepath / filename)\n",
    "\n",
    "    # Merge Data\n",
    "    gdf = merge_shp_by_name(shp, temp_path, geo_path)"
   ]
  },
  {
   "cell_type": "markdown",
   "id": "8aa71593-0412-4ef3-8eac-fdcfca6ceb20",
   "metadata": {},
   "source": [
    "<br>\n",
    "\n",
    "## Junta shapefiles Específicos\n",
    "\n",
    "Após juntar todos os shapefiles em pastas, notei a existência de shapefiles que tem o mesmo tema, porém continham nomes distintos (por exemplo, \"app.shp\" e \"App.shp\").<br>\n",
    "Esse problema na nomenclatura dos arquivos, impediu que os arquivos fossem unificados e, portanto, foi necessário escrever uma função que juntava os shapefiles, mantendo apenas o primeiro e deletando os restantes.\n"
   ]
  },
  {
   "cell_type": "code",
   "execution_count": null,
   "id": "d9014e59-cf9b-4459-9a8a-8ac75401222f",
   "metadata": {},
   "outputs": [],
   "source": [
    "def merge_shp_specific(list_files):\n",
    "    \"\"\"\n",
    "    Une shapefiles específicos, sobrepondo o primeiro da lista...\n",
    "    Deletando os demais...\n",
    "    \"\"\"\n",
    "    # Concatena\n",
    "    gdf = gpd.GeoDataFrame(\n",
    "        pd.concat([gpd.read_file(i) for i in list_files], ignore_index=True),\n",
    "        crs=gpd.read_file(list_files[0]).crs,\n",
    "    )\n",
    "\n",
    "    # Delete\n",
    "    for file in list_files[1:]:\n",
    "        if file.exists:\n",
    "            file.unlink()\n",
    "            print(f'\"{file}\" deletado!!')\n",
    "        else:\n",
    "            print(f'\"{file}\" não existe!')\n",
    "\n",
    "    # Save Output\n",
    "    gdf.to_file(list_files[0])\n",
    "    return gdf.explore()"
   ]
  },
  {
   "cell_type": "code",
   "execution_count": null,
   "id": "564cc1fc-39e1-4974-a2f5-31502b879515",
   "metadata": {},
   "outputs": [],
   "source": [
    "extension = 'gpkg'"
   ]
  },
  {
   "cell_type": "code",
   "execution_count": null,
   "id": "4512553f",
   "metadata": {},
   "outputs": [],
   "source": [
    "geo_path"
   ]
  },
  {
   "cell_type": "code",
   "execution_count": null,
   "id": "7dcee883-102f-4457-aba5-9943833a51ba",
   "metadata": {},
   "outputs": [],
   "source": [
    "merge_shp_specific(\n",
    "    [\n",
    "        geo_path / f'app.{extension}',\n",
    "        geo_path / f'app_nascente.{extension}',\n",
    "    ]\n",
    ")"
   ]
  },
  {
   "cell_type": "code",
   "execution_count": null,
   "id": "9832705e-33f8-47d8-90af-76f09158ccf6",
   "metadata": {},
   "outputs": [],
   "source": [
    "# merge_shp_specific(\n",
    "#     [\n",
    "#         geo_path / f'Area_conservacao.{extension}',\n",
    "#         geo_path / f'area_Conservacao.{extension}',\n",
    "#     ]\n",
    "# )"
   ]
  },
  {
   "cell_type": "code",
   "execution_count": null,
   "id": "0b488e56-2cd4-4274-9ed7-f7bd59a150af",
   "metadata": {},
   "outputs": [],
   "source": [
    "# merge_shp_specific(\n",
    "#     [\n",
    "#         geo_path / f'area_drenagem.{extension}',\n",
    "#         geo_path / f'Area_Drenagem.{extension}',\n",
    "#         geo_path / f'Area_drenagem.{extension}',\n",
    "#     ]\n",
    "# )"
   ]
  },
  {
   "cell_type": "markdown",
   "id": "949bb926-1fac-4832-aa6c-22ef4d16481e",
   "metadata": {},
   "source": [
    "<br>\n",
    "\n",
    "## Deleta Shapefiles\n",
    "\n",
    "Após juntar o material que considerei útil para a etapa do meu trabalho, foi possível deletar o restante do material.\n"
   ]
  },
  {
   "cell_type": "code",
   "execution_count": null,
   "id": "715b4d17-5e56-4318-b31f-99a50d46776c",
   "metadata": {},
   "outputs": [],
   "source": [
    "shutil.rmtree(temp_path, ignore_errors=True)"
   ]
  },
  {
   "cell_type": "code",
   "execution_count": null,
   "id": "49551a51-edf8-4392-8679-54c38bf3fcf0",
   "metadata": {},
   "outputs": [],
   "source": []
  }
 ],
 "metadata": {
  "kernelspec": {
   "display_name": "Python 3 (ipykernel)",
   "language": "python",
   "name": "python3"
  },
  "language_info": {
   "codemirror_mode": {
    "name": "ipython",
    "version": 3
   },
   "file_extension": ".py",
   "mimetype": "text/x-python",
   "name": "python",
   "nbconvert_exporter": "python",
   "pygments_lexer": "ipython3",
   "version": "3.9.16"
  },
  "toc-autonumbering": true,
  "vscode": {
   "interpreter": {
    "hash": "397a8db9a99587ebc9659e575e97c3dbc03b7cdbd9bc181d706cc19eab1087ed"
   }
  }
 },
 "nbformat": 4,
 "nbformat_minor": 5
}
